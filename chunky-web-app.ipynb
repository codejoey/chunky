{
 "cells": [
  {
   "cell_type": "raw",
   "metadata": {},
   "source": [
    "---\n",
    "title: Chunky 🍫\n",
    "description: Chunk Better \n",
    "show-code: False\n",
    "\n",
    "params:\n",
    "    input_filename:\n",
    "        label: Upload a lesson plan, novel, article, wiki page, and more! (.txt <50MB)\n",
    "        input: file\n",
    "        maxFileSize: 50MB\n",
    "    user_query:\n",
    "        input: text\n",
    "        label: What's your query?\n",
    "        value: How do you setup a vector database?\n",
    "    output_dir:\n",
    "        output: dir\n",
    "    ---"
   ]
  },
  {
   "cell_type": "code",
   "execution_count": null,
   "metadata": {},
   "outputs": [],
   "source": [
    "#name these var to match widget names above^, these var will update in webapp when run from user input\n",
    "input_filename = 'lesson_plan.txt'\n",
    "\"\"\"\n",
    "The uploaded file name will be passed to the notebook as a string. \n",
    "The uploaded file will be copied to the same directory as the notebook. \n",
    "After notebook execution, the uploaded file will be removed.\n",
    "\"\"\"\n",
    "user_query = \"How do you setup a vector database?\"\n",
    "output_dir = \"\"\n"
   ]
  },
  {
   "cell_type": "code",
   "execution_count": null,
   "metadata": {},
   "outputs": [],
   "source": [
    "#ADD DEPENDENCIES HERE and BELOW (not above)\n"
   ]
  },
  {
   "cell_type": "code",
   "execution_count": 6,
   "metadata": {},
   "outputs": [
    {
     "data": {
      "text/plain": [
       "'\\nThe uploaded file name will be passed to the notebook as a string. \\nThe uploaded file will be copied to the same directory as the notebook. \\nAfter notebook execution, the uploaded file will be removed.\\n'"
      ]
     },
     "execution_count": 6,
     "metadata": {},
     "output_type": "execute_result"
    }
   ],
   "source": [
    "# note there are two user inputs\n",
    "#! input_filename\n",
    "#! user_query\n",
    "\"\"\"\n",
    "Both are strings. Access the file locally.\n",
    "The uploaded file name will be passed to the notebook as a string. \n",
    "The uploaded file will be copied to the same directory as the notebook. \n",
    "After notebook execution, the uploaded file will be removed.\n",
    "\"\"\""
   ]
  },
  {
   "cell_type": "code",
   "execution_count": null,
   "metadata": {},
   "outputs": [],
   "source": []
  }
 ],
 "metadata": {
  "kernelspec": {
   "display_name": "chunky-devops-hack",
   "language": "python",
   "name": "python3"
  },
  "language_info": {
   "codemirror_mode": {
    "name": "ipython",
    "version": 3
   },
   "file_extension": ".py",
   "mimetype": "text/x-python",
   "name": "python",
   "nbconvert_exporter": "python",
   "pygments_lexer": "ipython3",
   "version": "3.10.13"
  }
 },
 "nbformat": 4,
 "nbformat_minor": 2
}
